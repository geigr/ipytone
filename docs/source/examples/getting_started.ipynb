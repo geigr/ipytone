{
 "cells": [
  {
   "cell_type": "markdown",
   "metadata": {},
   "source": [
    "# Getting started"
   ]
  },
  {
   "cell_type": "code",
   "execution_count": null,
   "metadata": {},
   "outputs": [],
   "source": [
    "import ipytone"
   ]
  },
  {
   "cell_type": "markdown",
   "metadata": {},
   "source": [
    "First, let's create a simple oscillator (i.e., a source audio node that generates an audio signal using a basic waveform)."
   ]
  },
  {
   "cell_type": "code",
   "execution_count": null,
   "metadata": {},
   "outputs": [],
   "source": [
    "osc = ipytone.Oscillator(volume=-5)"
   ]
  },
  {
   "cell_type": "markdown",
   "metadata": {},
   "source": [
    "Like every other ipytone widget, an `Oscillator` has no visible output."
   ]
  },
  {
   "cell_type": "code",
   "execution_count": null,
   "metadata": {},
   "outputs": [],
   "source": [
    "osc"
   ]
  },
  {
   "cell_type": "markdown",
   "metadata": {
    "tags": []
   },
   "source": [
    "## Audio nodes\n",
    "\n",
    "Like many other audio processing software, Tone.js and Ipytone are built around the concept of audio nodes. These consist of logical audio processing units that can be connected to each other via their input / output anchors, letting the audio signal flow from source nodes to the destination node (i.e., the \"speakers\"). \n",
    "\n",
    "Ipytone audio nodes input / output may be accessed via their `input` / `output` properties, which each either return another audio node object or `None`. For example, `Oscillator` has no input (source node) and has a `Volume` node as output:"
   ]
  },
  {
   "cell_type": "code",
   "execution_count": null,
   "metadata": {},
   "outputs": [],
   "source": [
    "osc.input is None"
   ]
  },
  {
   "cell_type": "code",
   "execution_count": null,
   "metadata": {},
   "outputs": [],
   "source": [
    "osc.output"
   ]
  },
  {
   "cell_type": "markdown",
   "metadata": {},
   "source": [
    "### Connecting audio nodes\n",
    "\n",
    "The `Oscillator` object created above won't make any sound until it is connected to the destination. To connect it directly to the destination, you can use the `connect` method like below or the more convenient `to_destination` method."
   ]
  },
  {
   "cell_type": "code",
   "execution_count": null,
   "metadata": {},
   "outputs": [],
   "source": [
    "# connects the oscillator (output) to the destination (input)\n",
    "osc.connect(ipytone.destination)"
   ]
  },
  {
   "cell_type": "markdown",
   "metadata": {},
   "source": [
    "Note that the oscillator still won't make any sound. You need to start / stop it explicitly (all source nodes have `start` and `stop` methods):"
   ]
  },
  {
   "cell_type": "code",
   "execution_count": null,
   "metadata": {},
   "outputs": [],
   "source": [
    "osc.start()"
   ]
  },
  {
   "cell_type": "code",
   "execution_count": null,
   "metadata": {},
   "outputs": [],
   "source": [
    "osc.stop()"
   ]
  },
  {
   "cell_type": "markdown",
   "metadata": {},
   "source": [
    "To disconnect the oscillator from the destination, you can use `disconnect`:"
   ]
  },
  {
   "cell_type": "code",
   "execution_count": null,
   "metadata": {},
   "outputs": [],
   "source": [
    "osc.disconnect(ipytone.destination)"
   ]
  },
  {
   "cell_type": "markdown",
   "metadata": {},
   "source": [
    "More advanced connections are possible. In addition to `connect`, the `chain` and `fan` convenience methods can be used to make multiple connections at once (resp. in serial and in parallel).\n",
    "\n",
    "An example with a `Filter` node inserted between the oscillator and the destination:"
   ]
  },
  {
   "cell_type": "code",
   "execution_count": null,
   "metadata": {},
   "outputs": [],
   "source": [
    "filtr = ipytone.Filter(type=\"highpass\", frequency=1000)"
   ]
  },
  {
   "cell_type": "code",
   "execution_count": null,
   "metadata": {},
   "outputs": [],
   "source": [
    "# connects in chain oscillator -> filter -> destination\n",
    "osc.chain(filtr, ipytone.destination)"
   ]
  },
  {
   "cell_type": "markdown",
   "metadata": {},
   "source": [
    "### Method chaining\n",
    "\n",
    "Most audio node methods return the node object itself, which allows chaining them for convenience, e.g.,"
   ]
  },
  {
   "cell_type": "code",
   "execution_count": null,
   "metadata": {},
   "outputs": [],
   "source": [
    "# start the oscillator now and stop it after 1 second\n",
    "osc.start().stop(\"+1\")"
   ]
  },
  {
   "cell_type": "markdown",
   "metadata": {},
   "source": [
    "## Audio node controls\n",
    "\n",
    "An ipytone audio node may have several properties that are synchronized with the front-end and that can be used for a fine-grained control on the generated or processed audio.\n",
    "\n",
    "The value of those properties generally corresponds to either:\n",
    "\n",
    "- a \"simple\" value of `int`, `float` or `str`, etc. basic type\n",
    "- an instance of `Param` or `Signal`, which holds some metadata in addition to the actual value (e.g., units) and provides convenient methods that can be used to schedule value changes (see below)."
   ]
  },
  {
   "cell_type": "markdown",
   "metadata": {},
   "source": [
    "### Basic node properties\n",
    "\n",
    "Basic audio node property values can be read/written directly with Python.\n",
    "\n",
    "An example with the oscillator `type` (i.e., its waveform shape):"
   ]
  },
  {
   "cell_type": "code",
   "execution_count": null,
   "metadata": {},
   "outputs": [],
   "source": [
    "osc.type"
   ]
  },
  {
   "cell_type": "code",
   "execution_count": null,
   "metadata": {},
   "outputs": [],
   "source": [
    "osc.type = \"triangle\"\n",
    "\n",
    "osc.start().stop(\"+1\")"
   ]
  },
  {
   "cell_type": "markdown",
   "metadata": {},
   "source": [
    "### `Param` and `Signal`\n",
    "\n",
    "When an audio node property is a `Param` or `Signal` instance, the actual value can be read / written via the `value` property that instance.\n",
    "\n",
    "An example with the oscillator `frequency`:"
   ]
  },
  {
   "cell_type": "code",
   "execution_count": null,
   "metadata": {},
   "outputs": [],
   "source": [
    "osc.frequency"
   ]
  },
  {
   "cell_type": "code",
   "execution_count": null,
   "metadata": {},
   "outputs": [],
   "source": [
    "osc.frequency.value"
   ]
  },
  {
   "cell_type": "code",
   "execution_count": null,
   "metadata": {},
   "outputs": [],
   "source": [
    "osc.frequency.value = 800\n",
    "\n",
    "osc.start().stop(\"+1\")"
   ]
  },
  {
   "cell_type": "markdown",
   "metadata": {},
   "source": [
    "### Controlling audio nodes with Python\n",
    "\n",
    "#### \"Pure-Python\" example\n",
    "\n",
    "In the example below the frequency of the oscillator is gradually increased by directly setting the frequency value within a Python function."
   ]
  },
  {
   "cell_type": "code",
   "execution_count": null,
   "metadata": {},
   "outputs": [],
   "source": [
    "import time\n",
    "\n",
    "def linear_ramp_to(value, ramp_time):\n",
    "    n = 100\n",
    "    time_step = ramp_time / n\n",
    "    freq_step = (value - osc.frequency.value) / n\n",
    "    for i in range(n):\n",
    "        time.sleep(time_step)\n",
    "        osc.frequency.value += freq_step\n"
   ]
  },
  {
   "cell_type": "code",
   "execution_count": null,
   "metadata": {},
   "outputs": [],
   "source": [
    "osc.frequency.value = 440\n",
    "\n",
    "osc.start()\n",
    "linear_ramp_to(800, 3)\n",
    "osc.stop()"
   ]
  },
  {
   "cell_type": "markdown",
   "metadata": {},
   "source": [
    "Although it is working, this solution may is not optimal.\n",
    "\n",
    "- the Python interpreter is blocked while the frequency of the oscillator is updated (although there might be ways to make it non-blocking)\n",
    "- the actual frequency update steps in the front-end may not happen at an audio sample rate accuracy (slow data transfer between the Python kernel and the front-end can make things even worse)"
   ]
  },
  {
   "cell_type": "markdown",
   "metadata": {},
   "source": [
    "#### Using ipytone (Tone.js) scheduling\n",
    "\n",
    "The same effect than in the example above can be achieved with ipytone method calls. \n",
    "\n",
    "Those calls send a few messages in the front-end, which are then processed right-away to schedule a few events at specific times (via Tone.js and utlimately via the Web Audio API). This approach overcomes the limitations of the \"pure-Python\" solution above (i.e., non-blocking and more accurate scheduling)."
   ]
  },
  {
   "cell_type": "code",
   "execution_count": null,
   "metadata": {},
   "outputs": [],
   "source": [
    "osc.frequency.value = 440\n",
    "osc.start().stop(\"+3\")\n",
    "osc.frequency.linear_ramp_to(800, 3)\n",
    "osc.frequency.set_value_at_time(440, \"+3\")"
   ]
  },
  {
   "cell_type": "markdown",
   "metadata": {},
   "source": [
    "### Controling audio nodes with (ipy)widgets\n",
    "\n",
    "Ipytone audio nodes are widgets and can thus be integrated with other widgets for more interactive control, e.g., via widget events (i.e., `observe`, `link`, `jslink`).\n",
    "\n",
    "Here is a basic example with a few UI widgets to control the oscillator type, frequency and playback state."
   ]
  },
  {
   "cell_type": "code",
   "execution_count": null,
   "metadata": {},
   "outputs": [],
   "source": [
    "import ipywidgets\n",
    "\n",
    "freq_slider = ipywidgets.FloatSlider(\n",
    "    value=440,\n",
    "    min=100,\n",
    "    max=1000,\n",
    "    step=1,\n",
    ")\n",
    "\n",
    "type_dropdown = ipywidgets.Dropdown(\n",
    "    options=['sine', 'square', 'sawtooth', 'triangle'],\n",
    "    value='sine',\n",
    ")\n",
    "\n",
    "toggle_play_button = ipywidgets.ToggleButton(\n",
    "    value=False,\n",
    "    description=\"Start/Stop\"\n",
    ")\n",
    "\n",
    "ipywidgets.jslink((freq_slider, 'value'), (osc.frequency, 'value'))\n",
    "ipywidgets.link((type_dropdown, 'value'), (osc, 'type'))\n",
    "\n",
    "def start_stop_osc(change):\n",
    "    if change['new']:\n",
    "        osc.start()\n",
    "    else:\n",
    "        osc.stop()\n",
    "\n",
    "toggle_play_button.observe(start_stop_osc, names='value')\n",
    "\n",
    "ipywidgets.VBox([freq_slider, type_dropdown, toggle_play_button])"
   ]
  },
  {
   "cell_type": "markdown",
   "metadata": {},
   "source": [
    "### Dispose audio nodes\n",
    "\n",
    "If audio nodes are not used anymore, it is preferable to dispose it. Disposing a node instance means that all of its underlying Web Audio nodes are disconnected and freed for garbage collection in the front-end.\n",
    "\n",
    "When the `close` method of an ipytone node widget is called, the node is automatically disposed."
   ]
  },
  {
   "cell_type": "code",
   "execution_count": null,
   "metadata": {},
   "outputs": [],
   "source": [
    "osc.dispose()"
   ]
  },
  {
   "cell_type": "code",
   "execution_count": null,
   "metadata": {},
   "outputs": [],
   "source": [
    "osc.disposed"
   ]
  },
  {
   "cell_type": "code",
   "execution_count": null,
   "metadata": {},
   "outputs": [],
   "source": [
    "filtr.dispose()"
   ]
  },
  {
   "cell_type": "code",
   "execution_count": null,
   "metadata": {},
   "outputs": [],
   "source": []
  }
 ],
 "metadata": {
  "kernelspec": {
   "display_name": "Python 3",
   "language": "python",
   "name": "python3"
  },
  "language_info": {
   "codemirror_mode": {
    "name": "ipython",
    "version": 3
   },
   "file_extension": ".py",
   "mimetype": "text/x-python",
   "name": "python",
   "nbconvert_exporter": "python",
   "pygments_lexer": "ipython3",
   "version": "3.8.2"
  }
 },
 "nbformat": 4,
 "nbformat_minor": 4
}
