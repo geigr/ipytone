{
 "cells": [
  {
   "cell_type": "code",
   "execution_count": null,
   "id": "e63a5bf4-e863-4f0f-b602-4d9df55a6431",
   "metadata": {},
   "outputs": [],
   "source": [
    "import ipytone\n",
    "import ipywidgets as widgets"
   ]
  },
  {
   "cell_type": "markdown",
   "id": "e94c2f46-e332-4a0b-8342-07fbc8d802b6",
   "metadata": {},
   "source": [
    "#### Synths, effects and audio routing"
   ]
  },
  {
   "cell_type": "code",
   "execution_count": null,
   "id": "85e1727d-5add-4bf7-a4f0-f40febcf4f8e",
   "metadata": {},
   "outputs": [],
   "source": [
    "channel1 = ipytone.Channel(pan=-0.5).to_destination()\n",
    "filtr = ipytone.Filter(frequency=100)\n",
    "synth = ipytone.MonoSynth(volume=-7).chain(filtr, channel1)\n",
    "\n",
    "channel2 = ipytone.Channel(pan=0.2, channel_count=2).to_destination()\n",
    "delay = ipytone.PingPongDelay(delay_time=\"16n\", feedback=0.2)\n",
    "perc_synth = ipytone.MembraneSynth(volume=-10).chain(delay, channel2)"
   ]
  },
  {
   "cell_type": "code",
   "execution_count": null,
   "id": "a2fadec3-514c-4eff-8248-ac80c992515c",
   "metadata": {},
   "outputs": [],
   "source": [
    "lfo = ipytone.LFO(frequency=\"4m\", min=100, max=10_000)\n",
    "lfo.connect(filtr.frequency).start()\n",
    "\n",
    "lfo2 = ipytone.LFO(frequency=\"8n\", min=-200, max=200, type=\"triangle\")\n",
    "lfo2.connect(perc_synth.detune).start()\n",
    "\n",
    "perc_synth.pitch_decay = 0.02\n",
    "delay.wet.value = 0.1\n",
    "lfo2.amplitude.value = 0.6"
   ]
  },
  {
   "cell_type": "markdown",
   "id": "7b64cac1-45b5-4286-bff1-72200196b00f",
   "metadata": {},
   "source": [
    "#### Music loop"
   ]
  },
  {
   "cell_type": "code",
   "execution_count": null,
   "id": "3cfc5828-2b61-4a21-82dd-a375f9aea40f",
   "metadata": {},
   "outputs": [],
   "source": [
    "def clb(time, note):\n",
    "    synth.trigger_attack_release(note, 0.2, time=time)\n",
    "    perc_synth.trigger_attack_release(note, 0.05, time=time)\n",
    "\n",
    "sequence = ipytone.Sequence(\n",
    "    callback=clb,\n",
    "    events=[\"A0\", \"A1\", \"A0\", None, \"F#2\", \"G2\", \"G#2\", \"A2\"],\n",
    "    subdivision=\"16n\",\n",
    ")"
   ]
  },
  {
   "cell_type": "markdown",
   "id": "07641d31-6ac1-4aec-bd04-72db98a286a5",
   "metadata": {},
   "source": [
    "#### Play it!"
   ]
  },
  {
   "cell_type": "code",
   "execution_count": null,
   "id": "55b9dac0-293e-4f2a-a97e-6ae475ecd59b",
   "metadata": {},
   "outputs": [],
   "source": [
    "ipytone.transport.start()\n",
    "sequence.start()"
   ]
  },
  {
   "cell_type": "markdown",
   "id": "fbff5111-1439-41d2-99ff-445c90ca70ea",
   "metadata": {},
   "source": [
    "Pause it right now if you forgot to adjust the volume of the speakers!!"
   ]
  },
  {
   "cell_type": "code",
   "execution_count": null,
   "id": "e77f2bdf-de70-478a-89d1-8688d33e12ce",
   "metadata": {},
   "outputs": [],
   "source": [
    "ipytone.transport.pause()"
   ]
  },
  {
   "cell_type": "markdown",
   "id": "8bb433a8-099a-4b01-aa5b-f9b21ec23e25",
   "metadata": {},
   "source": [
    "Ok now? Let's resume and have some fun..."
   ]
  },
  {
   "cell_type": "code",
   "execution_count": null,
   "id": "3a3a561d-5d8e-4197-90c0-a42d8c4ad80d",
   "metadata": {},
   "outputs": [],
   "source": [
    "ipytone.transport.start()"
   ]
  },
  {
   "cell_type": "code",
   "execution_count": null,
   "id": "b0907348-850c-460e-ad60-8d3cf8abb566",
   "metadata": {},
   "outputs": [],
   "source": [
    "import asyncio\n",
    "\n",
    "async def melody():\n",
    "    \"\"\"8x2 measures melody\"\"\"\n",
    "    m2 = ipytone.transport.bpm.value / 60 * 2\n",
    "\n",
    "    # 1 ---\n",
    "    sequence.events = [\"A1\", \"A2\", \"A0\", None, \"E4\", \"A3\", \"E4\", \"A4\"]\n",
    "    await asyncio.sleep(m2)\n",
    "    # 2 ---\n",
    "    sequence.events = [\"A1\", \"A2\", \"A0\", None, \"E4\", \"A3\", \"E4\", \"B4\"]\n",
    "    await asyncio.sleep(m2)\n",
    "    # 3 ---\n",
    "    sequence.events = [\"A1\", \"A2\", \"A0\", None, \"E4\", \"A3\", \"E4\", \"C4\"]\n",
    "    await asyncio.sleep(m2)\n",
    "    # 4 ---\n",
    "    sequence.events = [\"A1\", \"A2\", None, \"A0\", \"E5\", None, \"E4\", \"A4\"]\n",
    "    await asyncio.sleep(m2)\n",
    "    # 5 ---\n",
    "    sequence.events = [\"A1\", None, None, \"A0\", \"E5\", None, None, None]\n",
    "    await asyncio.sleep(m2)\n",
    "    # 6 ---\n",
    "    synth.portamento = 0.08\n",
    "    filtr.q.ramp_to(6, \"4m\")\n",
    "    lfo2.amplitude.ramp_to(1, \"4m\")\n",
    "    await asyncio.sleep(m2)\n",
    "    # 7 ---\n",
    "    sequence.events = [\"A1\", \"A2\", None, \"A0\", \"E5\", None, \"G5\", \"A4\"]\n",
    "    await asyncio.sleep(m2)\n",
    "    # 8 ---\n",
    "    delay.wet.ramp_to(0.8, \"2m\")\n",
    "    synth.portamento = 0.1\n",
    "    await asyncio.sleep(m2)\n",
    "    # 1 ---\n",
    "    synth.portamento = 0\n",
    "    filtr.q.ramp_to(1, \"4n\")\n",
    "    delay.wet.ramp_to(0.1, \"4n\")\n",
    "    lfo.amplitude.ramp_to(0.1, \"4n\")\n",
    "    sequence.events = [\"A0\", \"A1\", \"A0\", None, \"F#2\", \"G2\", \"G#2\", \"A2\"]\n"
   ]
  },
  {
   "cell_type": "code",
   "execution_count": null,
   "id": "fa4ed903-f7a4-40b1-be32-462b4cd9aa72",
   "metadata": {},
   "outputs": [],
   "source": [
    "loop = asyncio.get_event_loop()\n",
    "loop.create_task(melody());"
   ]
  },
  {
   "cell_type": "markdown",
   "id": "3c38075c-d097-4670-afb0-3fd18980613a",
   "metadata": {
    "tags": []
   },
   "source": [
    "#### Mixer"
   ]
  },
  {
   "cell_type": "code",
   "execution_count": null,
   "id": "e2f88538-d402-47c3-8ee2-2c0a12444bca",
   "metadata": {},
   "outputs": [],
   "source": [
    "def create_channel(node):\n",
    "    # panner\n",
    "    pan = widgets.FloatSlider(\n",
    "        value=node.pan.value, min=-1, max=1,\n",
    "        layout=widgets.Layout(width=\"200px\")\n",
    "    )\n",
    "    widgets.jslink((pan, \"value\"), (node.pan, \"value\"))\n",
    "    \n",
    "    # solo / mute buttons\n",
    "    solo = widgets.ToggleButton(value=False, description=\"Solo\")\n",
    "    mute = widgets.ToggleButton(value=False, description=\"Mute\")\n",
    "\n",
    "    def node_solo(change):\n",
    "        node.solo = change['new']\n",
    "        \n",
    "    def node_mute(change):\n",
    "        node.mute = change[\"new\"]\n",
    "        \n",
    "    solo.observe(node_solo, names='value')\n",
    "    mute.observe(node_mute, names='value')\n",
    "    \n",
    "    # fader\n",
    "    fader = widgets.FloatSlider(\n",
    "        value=0, min=-30, max=4, orientation=\"vertical\"\n",
    "    )\n",
    "    widgets.jslink((fader, \"value\"), (node.volume, \"value\"))\n",
    "\n",
    "    # L/R VU meters\n",
    "    vu_left = widgets.FloatProgress(\n",
    "        min=0, max=0.4, orientation=\"vertical\"\n",
    "    )\n",
    "    vu_right = widgets.FloatProgress(\n",
    "        min=0, max=0.4, orientation=\"vertical\"\n",
    "    )\n",
    "    split = ipytone.Split()\n",
    "    node.connect(split)\n",
    "    meter_left = ipytone.Meter(normal_range=True)\n",
    "    split.connect(meter_left, 0, 0)\n",
    "    meter_left.schedule_jsdlink((vu_left, \"value\"), transport=True)\n",
    "    meter_right = ipytone.Meter(normal_range=True)\n",
    "    split.connect(meter_right, 1, 0)\n",
    "    meter_right.schedule_jsdlink((vu_right, \"value\"), transport=True)\n",
    "    \n",
    "    # layout\n",
    "    fader_vus = widgets.HBox([fader, vu_left, vu_right])\n",
    "    return widgets.VBox([pan, solo, mute, fader_vus])\n",
    "\n",
    "\n",
    "widgets.HBox([create_channel(channel1), create_channel(channel2)])"
   ]
  },
  {
   "cell_type": "markdown",
   "id": "86f46c24-cee2-42fc-974c-868689baf0a9",
   "metadata": {},
   "source": [
    "#### Enough!"
   ]
  },
  {
   "cell_type": "code",
   "execution_count": null,
   "id": "3866fcf8-730e-4c54-8eb1-38d26d6da1d1",
   "metadata": {},
   "outputs": [],
   "source": [
    "sequence.stop()"
   ]
  },
  {
   "cell_type": "code",
   "execution_count": null,
   "id": "0925ced3-7fc8-4ed0-ab76-5f11604dcb50",
   "metadata": {},
   "outputs": [],
   "source": [
    "ipytone.transport.stop()"
   ]
  },
  {
   "cell_type": "markdown",
   "id": "b3c597b8-5b14-4733-96f7-6cd5ee390b4c",
   "metadata": {},
   "source": [
    "#### Dispose (free audio ressource)"
   ]
  },
  {
   "cell_type": "code",
   "execution_count": null,
   "id": "7c407bef-c49e-44d8-b519-3d993dd4abd9",
   "metadata": {},
   "outputs": [],
   "source": [
    "synth.dispose()\n",
    "filtr.dispose()\n",
    "lfo.dispose()\n",
    "lfo2.dispose()\n",
    "channel1.dispose()\n",
    "perc_synth.dispose()\n",
    "delay.dispose()\n",
    "channel2.dispose()\n",
    "\n",
    "sequence.dispose()"
   ]
  }
 ],
 "metadata": {
  "kernelspec": {
   "display_name": "Python 3",
   "language": "python",
   "name": "python3"
  },
  "language_info": {
   "codemirror_mode": {
    "name": "ipython",
    "version": 3
   },
   "file_extension": ".py",
   "mimetype": "text/x-python",
   "name": "python",
   "nbconvert_exporter": "python",
   "pygments_lexer": "ipython3",
   "version": "3.8.2"
  }
 },
 "nbformat": 4,
 "nbformat_minor": 5
}
